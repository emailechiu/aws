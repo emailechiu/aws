{
 "cells": [
  {
   "cell_type": "code",
   "execution_count": null,
   "metadata": {},
   "outputs": [],
   "source": [
    "from pyspark.sql.functions import to_timestamp,from_unixtime\n",
    "from ts.flint import FlintContext\n",
    "flintContext = FlintContext(sqlContext)\n",
    "feature = spark.read.format('avro').load(\"s3://vsat-lmtd/jup*_stats/vsat_stcd/year=2019/month=2/day=1/*\").select(to_timestamp(from_unixtime(\"collection_start_time\", \"yyyy-MM-dd HH\")).alias('time'),'device_id','statecode','statecodeduration')\n",
    "target = spark.read.format(\"avro\").load(\"s3://sfdmdb/SF_CASE_VW/ymd=20190201/0.avro\").show()\n",
    "#df.printSchema\n",
    "vsatlmtd= flintContext.read.dataframe(df)\n",
    "vsatlmtd.show()"
   ]
  }
 ],
 "metadata": {
  "kernelspec": {
   "display_name": "Sparkmagic (PySpark)",
   "language": "",
   "name": "pysparkkernel"
  },
  "language_info": {
   "codemirror_mode": {
    "name": "python",
    "version": 2
   },
   "mimetype": "text/x-python",
   "name": "pyspark",
   "pygments_lexer": "python2"
  }
 },
 "nbformat": 4,
 "nbformat_minor": 2
}
