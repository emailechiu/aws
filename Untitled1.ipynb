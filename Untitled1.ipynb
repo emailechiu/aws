{
 "cells": [
  {
   "cell_type": "code",
   "execution_count": 1,
   "metadata": {},
   "outputs": [
    {
     "name": "stdout",
     "output_type": "stream",
     "text": [
      "Starting Spark application\n"
     ]
    },
    {
     "data": {
      "text/html": [
       "<table>\n",
       "<tr><th>ID</th><th>YARN Application ID</th><th>Kind</th><th>State</th><th>Spark UI</th><th>Driver log</th><th>Current session?</th></tr><tr><td>1</td><td>application_1553195071318_0003</td><td>pyspark</td><td>idle</td><td><a target=\"_blank\" href=\"http://ip-10-0-0-213.ec2.internal:20888/proxy/application_1553195071318_0003/\">Link</a></td><td><a target=\"_blank\" href=\"http://ip-10-0-0-213.ec2.internal:8042/node/containerlogs/container_1553195071318_0003_01_000001/livy\">Link</a></td><td>✔</td></tr></table>"
      ],
      "text/plain": [
       "<IPython.core.display.HTML object>"
      ]
     },
     "metadata": {},
     "output_type": "display_data"
    },
    {
     "name": "stdout",
     "output_type": "stream",
     "text": [
      "SparkSession available as 'spark'.\n",
      "+----------+--------------------+--------------------+------+-------------+---------------+-----------------+------------------------+-----------------+----------------+--------------------+--------------------+--------------+--------------+-------------------+---------------------+--------------------+-----------------+-------------+---------------+------------------+--------------------+----------------+--------------------------+--------------------+-------------------+------------------------------+-------------------+----------+-----------------------+------------------+\n",
      "|CASENUMBER|         CREATEDDATE|          CLOSEDDATE|REASON|         TYPE|   CASE_TYPE__C|  CASE_SUBTYPE__C|CUSTOMER_REQUEST_TYPE__C|        ACTION__C|ACTIVITY_TYPE__C|     ACTUAL_ISSUE__C|              STATUS|ACCOUNT_SAN__C|CASE_STATUS__C|CASE_RECORD_TYPE__C|PARENT_CUSTOMER_ID__C|  CONTRACT_STATUS__C|CUSTOMER_VALUE__C|CHURN_RISK__C|HSVC_BEAM_ID__C|HSVC_GATEWAY_ID__C|HSVC_SATELLITE_ID__C|ADAPTER_MODEL__C|TRANSPORT_OFFERING_NAME__C|         INSTALLDATE|HSVC_CHRONICSITE__C|HSVC_CHRONICSTATUSLASTMODIFIED|CUSTOMER_PROGRAM__C|     BRAND|CUSTOMER_LOCATION_ID__C|HNS_LOCATION_ID__C|\n",
      "+----------+--------------------+--------------------+------+-------------+---------------+-----------------+------------------------+-----------------+----------------+--------------------+--------------------+--------------+--------------+-------------------+---------------------+--------------------+-----------------+-------------+---------------+------------------+--------------------+----------------+--------------------------+--------------------+-------------------+------------------------------+-------------------+----------+-----------------------+------------------+\n",
      "| 118319890|2019-02-01 00:00:...|2019-02-01 00:00:...|  null|Non-Technical|Install Support|  Install Support|                  PS TAD|           PS TAD|   Case Creation|              PS TAD|              Closed|   DSS37159216|          null| Install Work Order|           HNSDWAYISP|Current - Under C...|             High|         High|             41|                 5|         EchoStar 17|         HT2000W|                 Gen5_10GB|2019-01-25 00:00:...|                  0|                          null|               null|HNSDWAYISP|            DSS37159216|           3527235|\n",
      "| 118319891|2019-02-01 00:00:...|2019-02-01 00:00:...|  null|Non-Technical|  Non-Technical|      Information|                 Payment|         Resolved|   Case Creation|        Full Payment|              Closed|   DSS30895074|          null|   B2C General Case|           HNSDWAYISP|Current - Under C...|           Medium|       Medium|           null|              null|                null|         HT2000W|                 Gen5_20GB|2013-06-11 00:00:...|                  0|                          null|               null|HNSDWAYISP|            DSS30895074|        1001912143|\n",
      "| 118319899|2019-02-01 00:00:...|2019-02-01 00:00:...|  null|Non-Technical|  Non-Technical|      Information|            Billing Info|Educated Customer|   Case Creation|          Amount Due|              Closed|   DSS36843683|          null|   B2C General Case|           HNSDWAYISP|Current - Under C...|             High|    Very High|             81|                12|         EchoStar 19|         HT2000W|              Gen5_30GB_NP|2018-10-25 00:00:...|                  1|                          null|               null|HNSDWAYISP|            DSS36843683|           3385657|\n",
      "| 118319892|2019-02-01 00:00:...|2019-02-01 00:00:...|  null|Non-Technical|  Non-Technical|      Information|     General Information|Educated Customer|   Case Creation| Cancellation Policy|              Closed|   DSS36780769|          null|   B2C General Case|           HNSDWAYISP|Current - Under C...|             High|          Low|              3|                11|         EchoStar 17|         HT2000W|              Gen5_20GB_03|2018-10-05 00:00:...|                  0|                          null|               null|HNSDWAYISP|            DSS36780769|           3354958|\n",
      "| 118319893|2019-02-01 00:00:...|2019-02-01 01:31:...|  null|Non-Technical|  Non-Technical|      Information|     General Information|Educated Customer|   Case Creation|    Internet Service|              Closed|   DSS10152623|          null|   B2C General Case|           HNSDWAYISP|Current - Under C...|             High|    Very High|             38|                 4|         EchoStar 17|         HT2000W|             Gen5_20GB(RV)|2019-01-30 00:00:...|                  1|                          null|               null|HNSDWAYISP|            DSS10152623|           3534359|\n",
      "| 118319894|2019-02-01 00:00:...|2019-02-01 00:00:...|  null|Non-Technical|      Technical|      Performance|      Hughes Wi-Fi Issue|Educated Customer|   Case Creation|Intermittent Conn...|              Closed|   DSS32702231|          null|   B2C General Case|           HNSDWAYISP|Current - Under C...|           Medium|       Medium|             47|                10|         EchoStar 17|         HT2000W|                 Gen5_30GB|2015-02-02 00:00:...|                  0|                          null|               null|HNSDWAYISP|            DSS32702231|        1002023886|\n",
      "| 118319895|2019-02-01 00:00:...|2019-02-01 00:00:...|  null|Non-Technical|Install Support|  Install Support|                  PS TAD|           PS TAD|   Case Creation|              PS TAD|              Closed|   DSS37159220|          null| Install Work Order|           HNSDWAYISP|Current - Under C...|             High|       Medium|             56|                10|         EchoStar 17|         HT2000W|           Gen5_20GB(DISH)|2019-01-24 00:00:...|                  0|                          null|               null|HNSDWAYISP|            DSS37159220|           3527236|\n",
      "| 118319898|2019-02-01 00:00:...|2019-02-01 00:08:...|  null|Non-Technical|  Non-Technical|      Information|                 Payment|Educated Customer|   Case Creation|     Partial Payment|              Closed|   DSS34781434|          null|   B2C General Case|           HNSDWAYISP|Current - Under C...|             High|    Very High|             81|                12|         EchoStar 19|         HT2000W|                 Gen5_20GB|2017-04-27 00:00:...|                  0|                          null|               null|HNSDWAYISP|            DSS34781434|           2372299|\n",
      "| 118319903|2019-02-01 00:00:...|2019-02-01 00:18:...|  null|Non-Technical|  Non-Technical|        Retention|          Cancel Service|      Considering|   Case Creation|              Speeds|              Closed|   DSS35502688|          null|   B2C General Case|           HNSDWAYISP|Current - Under C...|             High|          Low|             61|                 9|         EchoStar 19|         HT2000W|                 Gen5_50GB|2017-11-02 00:00:...|                  0|                          null|               null|HNSDWAYISP|            DSS35502688|           2730635|\n",
      "| 118319902|2019-02-01 00:00:...|2019-02-01 23:27:...|  null|Non-Technical|   Repair Field|Hughes Truck Roll|                  PS TAD|           PS TAD|   Case Creation|              PS TAD|              Closed|   DSS35119710|          null|  Repair Work Order|           HNSDWAYISP|Current - Under C...|             High|       Medium|             55|                 8|         EchoStar 19|         HT2000W|                 Gen5_20GB|2017-07-31 00:00:...|                  0|                          null|               null|HNSDWAYISP|            DSS35119710|           2539988|\n",
      "| 118319910|2019-02-01 00:00:...|2019-02-02 15:45:...|  null|Non-Technical|      Technical|      Performance|    Internet Service ...|        Truckroll|   Case Creation|No Connectivity -...|              Closed|   DSS35473329|          null|   B2C General Case|           HNSDWAYISP|Current - Under C...|           Medium|          Low|             81|                12|         EchoStar 19|         HT2000W|              ZZZGen5_10GB|2017-10-24 00:00:...|                  0|                          null|               null|HNSDWAYISP|            DSS35473329|           2714869|\n",
      "| 118319904|2019-02-01 00:00:...|                null|  null|Non-Technical|  Non-Technical|      Information|     General Information|         Resolved|   Case Creation| System Reactivation|Pending - ReActiv...|   DSS32054695|          null|   B2C General Case|           HNSDWAYISP|Current - Under C...|             High|       Medium|             37|                11|         EchoStar 17|          HT1100|      Connect(1000 DTV)_02|2014-05-27 00:00:...|                  0|                          null|               null|HNSDWAYISP|            DSS32054695|        1001378584|\n",
      "| 118319905|2019-02-01 00:00:...|2019-02-01 01:11:...|  null|Non-Technical|      Technical|      Performance|    Internet Service ...|Educated Customer|   Case Creation|No Connectivity -...|              Closed|   DSS36015065|          null|   B2C General Case|           HNSDWAYISP|Current - Under C...|              Low|    Very High|             27|                17|         EchoStar 19|         HT2000W|           Gen5_10GB(DISH)|2018-03-03 00:00:...|                  0|                          null|               null|HNSDWAYISP|            DSS36015065|           2986404|\n",
      "| 118319907|2019-02-01 00:00:...|                null|  null|Non-Technical|  Non-Technical|      Information|     General Information|         Resolved|   Case Creation| System Reactivation|Pending - ReActiv...|   DSS36994384|          null|   B2C General Case|           HNSDWAYISP|Current - Under C...|             High|         High|            105|                10|         EchoStar 19|         HT2000W|                 Gen5_20GB|2018-12-05 00:00:...|                  0|                          null|               null|HNSDWAYISP|            DSS36994384|           3455330|\n",
      "| 118319916|2019-02-01 00:00:...|2019-02-01 00:13:...|  null|Non-Technical|  Non-Technical|        Retention|            Cancel Order|        Cancelled|   Case Creation|        Changed Mind|              Closed|   DSS37179669|          null|   B2C General Case|           HNSDWAYISP|Current - Under C...|             null|         null|             64|              null|         EchoStar 19|            null|                 Gen5_10GB|                null|                  0|                          null|               null|HNSDWAYISP|            DSS37179669|           3537286|\n",
      "| 118319911|2019-02-01 00:00:...|2019-02-01 00:00:...|  null|Non-Technical|Install Support|  Install Support|                  PS TAD|           PS TAD|   Case Creation|              PS TAD|              Closed|   DSS37159219|          null| Install Work Order|           HNSDWAYISP|Current - Under C...|             High|    Very High|             72|                 8|         EchoStar 19|         HT2000W|        Gen5_20GB(DISH_03)|2019-01-24 00:00:...|                  0|                          null|               null|HNSDWAYISP|            DSS37159219|           3527237|\n",
      "| 118319912|2019-02-01 00:00:...|2019-02-01 00:20:...|  null|Non-Technical|  Non-Technical|        Retention|          Cancel Service|            Saved|   Case Creation|       Billing Issue|              Closed|    DSS9072263|          null|   B2C General Case|           HNSDWAYISP|Current - Under C...|             High|          Low|             45|                 7|         EchoStar 17|          HT1100|              Gen5_10GB_NP|2010-10-08 00:00:...|                  0|                          null|               null|HNSDWAYISP|             DSS9072263|        1001764867|\n",
      "| 118319913|2019-02-01 00:00:...|2019-02-01 00:00:...|  null|Non-Technical|Install Support|  Install Support|                  PS TAD|           PS TAD|   Case Creation|              PS TAD|              Closed|   DSS33235914|          null| Install Work Order|           HNSDWAYISP|Current - Under C...|             High|          Low|             14|                 2|         EchoStar 17|          HT1100|                 Gen5_20GB|2015-08-13 00:00:...|                  0|                          null|               null|HNSDWAYISP|            DSS33235914|        1001361890|\n",
      "| 118319914|2019-02-01 00:00:...|2019-02-01 00:08:...|  null|Non-Technical|      Technical|      Performance|    Internet Service ...|Educated Customer|   Case Creation|No Connectivity -...|              Closed|   DSS34402000|          null|   B2C General Case|           HNSDWAYISP|Current - Under C...|           Medium|         High|             84|                 1|         EchoStar 19|         HT2000W|                 Gen5_50GB|2016-11-23 00:00:...|                  0|                          null|               null|HNSDWAYISP|            DSS34402000|           2164444|\n",
      "| 118319915|2019-02-01 00:00:...|2019-02-03 15:10:...|  null|Non-Technical|  Non-Technical|      Information|    Service Order Inf...|Educated Customer|   Case Creation|            Schedule|              Closed|   DSS34744184|          null|   B2C General Case|           HNSDWAYISP|Current - Under C...|           Medium|          Low|             40|                 1|         EchoStar 17|         HT2000W|                 Gen5_20GB|2017-04-10 00:00:...|                  0|                          null|               null|HNSDWAYISP|            DSS34744184|           2354079|\n",
      "+----------+--------------------+--------------------+------+-------------+---------------+-----------------+------------------------+-----------------+----------------+--------------------+--------------------+--------------+--------------+-------------------+---------------------+--------------------+-----------------+-------------+---------------+------------------+--------------------+----------------+--------------------------+--------------------+-------------------+------------------------------+-------------------+----------+-----------------------+------------------+\n",
      "only showing top 20 rows"
     ]
    }
   ],
   "source": [
    "from pyspark.sql.functions import to_timestamp,from_unixtime\n",
    "from ts.flint import FlintContext\n",
    "flintContext = FlintContext(sqlContext)\n",
    "feature = spark.read.format('avro').load(\"s3a://vsat-lmtd/jup*_stats/vsat_stcd/year=2019/month=2/day=1/*\").select(to_timestamp(from_unixtime(\"collection_start_time\", \"yyyy-MM-dd HH\")).alias('time'),'device_id','statecode','statecodeduration')\n",
    "target = spark.read.format(\"avro\").load(\"s3a://sfdmdb/SF_CASE_VW/ymd=20190201/0.avro\").show()\n",
    "#df.printSchema\n",
    "#vsatlmtd= flintContext.read.dataframe(df)\n",
    "#vsatlmtd.show()"
   ]
  },
  {
   "cell_type": "code",
   "execution_count": null,
   "metadata": {},
   "outputs": [],
   "source": []
  }
 ],
 "metadata": {
  "kernelspec": {
   "display_name": "Sparkmagic (PySpark)",
   "language": "",
   "name": "pysparkkernel"
  },
  "language_info": {
   "codemirror_mode": {
    "name": "python",
    "version": 2
   },
   "mimetype": "text/x-python",
   "name": "pyspark",
   "pygments_lexer": "python2"
  }
 },
 "nbformat": 4,
 "nbformat_minor": 2
}
