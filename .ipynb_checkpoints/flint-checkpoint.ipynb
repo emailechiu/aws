{
 "cells": [
  {
   "cell_type": "code",
   "execution_count": 1,
   "metadata": {},
   "outputs": [
    {
     "name": "stdout",
     "output_type": "stream",
     "text": [
      "Starting Spark application\n"
     ]
    },
    {
     "data": {
      "text/html": [
       "<table>\n",
       "<tr><th>ID</th><th>YARN Application ID</th><th>Kind</th><th>State</th><th>Spark UI</th><th>Driver log</th><th>Current session?</th></tr><tr><td>0</td><td>application_1551299854264_0187</td><td>pyspark</td><td>idle</td><td><a target=\"_blank\" href=\"http://ip-10-0-0-94.ec2.internal:20888/proxy/application_1551299854264_0187/\">Link</a></td><td><a target=\"_blank\" href=\"http://ip-10-0-0-94.ec2.internal:8042/node/containerlogs/container_1551299854264_0187_01_000001/livy\">Link</a></td><td>✔</td></tr></table>"
      ],
      "text/plain": [
       "<IPython.core.display.HTML object>"
      ]
     },
     "metadata": {},
     "output_type": "display_data"
    },
    {
     "name": "stdout",
     "output_type": "stream",
     "text": [
      "SparkSession available as 'spark'.\n"
     ]
    },
    {
     "name": "stderr",
     "output_type": "stream",
     "text": [
      "'JavaPackage' object is not callable\n",
      "Traceback (most recent call last):\n",
      "  File \"/usr/local/lib/python3.6/site-packages/ts/flint/context.py\", line 84, in read\n",
      "    return readwriter.TSDataFrameReader(self)\n",
      "  File \"/usr/local/lib/python3.6/site-packages/ts/flint/readwriter.py\", line 51, in __init__\n",
      "    self._reader = self._jpkg.new_reader()\n",
      "  File \"/usr/local/lib/python3.6/site-packages/ts/flint/java.py\", line 40, in new_reader\n",
      "    return utils.jvm(self.sc).com.twosigma.flint.timeseries.io.read.ReadBuilder()\n",
      "TypeError: 'JavaPackage' object is not callable\n",
      "\n"
     ]
    }
   ],
   "source": [
    "from ts.flint import FlintContext\n",
    "flintContext = FlintContext(sqlContext)\n",
    "vsatlmtd = spark.read.parquet(\"s3a://qaessential/jup2_stats.vsat_stcd/ymd=20190201\").select('year','month','day','device_id','statecode','statecodeduration').show()\n",
    "vsatlmtd= flintContext.read.dataframe(vsatlmtd)"
   ]
  },
  {
   "cell_type": "code",
   "execution_count": null,
   "metadata": {},
   "outputs": [],
   "source": []
  }
 ],
 "metadata": {
  "kernelspec": {
   "display_name": "Sparkmagic (PySpark)",
   "language": "",
   "name": "pysparkkernel"
  },
  "language_info": {
   "codemirror_mode": {
    "name": "python",
    "version": 2
   },
   "mimetype": "text/x-python",
   "name": "pyspark",
   "pygments_lexer": "python2"
  }
 },
 "nbformat": 4,
 "nbformat_minor": 2
}
