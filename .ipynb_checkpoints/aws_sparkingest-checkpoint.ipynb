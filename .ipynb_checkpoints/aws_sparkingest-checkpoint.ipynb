{
 "cells": [
  {
   "cell_type": "markdown",
   "metadata": {},
   "source": [
    "## For Local master node"
   ]
  },
  {
   "cell_type": "code",
   "execution_count": null,
   "metadata": {},
   "outputs": [],
   "source": [
    "%%local\n",
    "from pyspark.sql import SparkSession\n",
    "spark=SparkSession.builder.getOrCreate()\n",
    "spark.sparkContext.getConf().getAll()\n",
    "spark.sparkContext.version\n",
    "!which pyspark"
   ]
  },
  {
   "cell_type": "code",
   "execution_count": null,
   "metadata": {},
   "outputs": [],
   "source": [
    "%%local\n",
    "from pyspark.sql import SparkSession\n",
    "from sagemaker_pyspark import classpath_jars # for S3 access\n",
    "#spark=SparkSession.builder.config(\"spark.driver.extraClassPath\", \":\".join(classpath_jars())).config('spark.jars.packages','org.apache.spark:spark-avro_2.11:2.4.0').getOrCreate()\n",
    "spark=SparkSession.builder.config('spark.jars.packages','org.apache.spark:spark-avro_2.11:2.4.0').config(\"spark.driver.extraClassPath\", \":\".join(classpath_jars())).config('spark.jars','file:///home/ec2-user/.ivy2/jars/org.apache.spark_spark-tags_2.11-2.4.0.jar,file:///home/ec2-user/.ivy2/jars/org.apache.spark_spark-avro_2.11-2.4.0.jar,file:///home/ec2-user/.ivy2/jars/org.spark-project.spark_unused-1.0.0.jar').getOrCreate()\n",
    "spark=SparkSession.builder.config('spark.jars.packages','org.apache.spark:spark-avro_2.11:2.4.0').getOrCreate()\n",
    "# spark.conf.set('spark.jars.packages','org.apache.spark:spark-avro_2.11:2.4.0')\n",
    "#dF = spark.read.format(\"avro\").load(\"/home/ec2-user/0.avro\").show()\n",
    "dF = spark.read.format(\"avro\").load(\"s3a://sfdmdb/SF_CASE_VW/ymd=2018*/0.avro\").count()\n",
    "#spark.sparkContext.getConf().getAll()\n",
    "#terminfo = spark.read.parquet(\"s3a://qaessential/jup2_stats.terminal_info/ymd=20181101\").show()"
   ]
  },
  {
   "cell_type": "code",
   "execution_count": null,
   "metadata": {},
   "outputs": [],
   "source": [
    "%%local\n",
    "dF"
   ]
  },
  {
   "cell_type": "markdown",
   "metadata": {},
   "source": [
    "## For Remote clusters"
   ]
  },
  {
   "cell_type": "raw",
   "metadata": {},
   "source": [
    "To run python 3.6 for flint compatibility: https://aws.amazon.com/premiumsupport/knowledge-center/emr-pyspark-python-3x/"
   ]
  },
  {
   "cell_type": "code",
   "execution_count": null,
   "metadata": {},
   "outputs": [],
   "source": [
    "%%info"
   ]
  },
  {
   "cell_type": "code",
   "execution_count": null,
   "metadata": {},
   "outputs": [],
   "source": [
    "%%configure -f\n",
    "{ \"conf\": {\"spark.jars.packages\": \"org.apache.spark:spark-avro_2.11:2.4.0\",\"spark.jars\":\"/opt/flint.jar\"} }"
   ]
  },
  {
   "cell_type": "code",
   "execution_count": null,
   "metadata": {},
   "outputs": [],
   "source": [
    "%%configure -f\n",
    "{ \"conf\": {\"spark.jars\":$spark.jars:\"/opt/flint.jar\"} }"
   ]
  },
  {
   "cell_type": "code",
   "execution_count": null,
   "metadata": {},
   "outputs": [],
   "source": [
    "#spark.conf.set('spark.jars.packages','org.apache.spark:spark-avro_2.11:2.4.0')\n",
    "spark.read.format(\"avro\").load(\"s3a://sfdmdb/SF_CASE_VW/ymd=20181101/0.avro\").show()"
   ]
  },
  {
   "cell_type": "code",
   "execution_count": 1,
   "metadata": {},
   "outputs": [
    {
     "name": "stderr",
     "output_type": "stream",
     "text": [
      "UsageError: Line magic function `%pyspark` not found.\n"
     ]
    }
   ],
   "source": [
    "%pyspark\n",
    "from pyspark.sql.functions import to_timestamp,from_unixtime\n",
    "from ts.flint import FlintContext\n",
    "flintContext = FlintContext(sqlContext)\n",
    "feature = spark.read.format('avro').load(\"s3a://vsat-lmtd/jup*_stats/vsat_stcd/year=2019/month=2/day=1/*\").select(to_timestamp(from_unixtime(\"collection_start_time\", \"yyyy-MM-dd HH\")).alias('time'),'device_id','statecode','statecodeduration')\n",
    "target = spark.read.format(\"avro\").load(\"s3a://sfdmdb/SF_CASE_VW/ymd=20190201/0.avro\").show()\n",
    "#df.printSchema\n",
    "vsatlmtd= flintContext.read.dataframe(df)\n",
    "vsatlmtd.show()"
   ]
  },
  {
   "cell_type": "code",
   "execution_count": null,
   "metadata": {},
   "outputs": [],
   "source": [
    "#spark.hadoop.parquet.enable.summary-metadata false\n",
    "#spark.sql.parquet.mergeSchema false\n",
    "#spark.sql.parquet.filterPushdown true\n",
    "#spark.sql.hive.metastorePartitionPruning true\n",
    "terminfo = spark.read.parquet(\"s3a://qaessential/jup2_stats.terminal_info/ymd=20181101\").select('year','month','day','device_id','hw_type','absolute_beam_id')\n",
    "vsatlmtd = spark.read.parquet(\"s3a://qaessential/jup2_stats.vsat_stcd/ymd=20181101\").select('year','month','day','device_id','statecode','statecodeduration')\n",
    "terminfo.createOrReplaceTempView(\"terminfo\")\n",
    "vsatlmtd.createOrReplaceTempView(\"vsatlmtd\")\n",
    "vsatlmtd_e=vsatlmtd.join(terminfo,['year','month','day','device_id'])\n",
    "vsatlmtd_e.explain()\n",
    "vsatlmtd_e.show()"
   ]
  },
  {
   "cell_type": "code",
   "execution_count": null,
   "metadata": {},
   "outputs": [],
   "source": [
    "%%info"
   ]
  },
  {
   "cell_type": "code",
   "execution_count": null,
   "metadata": {},
   "outputs": [],
   "source": [
    "%%sql -o result\n",
    "select * from terminfo join vsatlmtd on terminfo.year=vsatlmtd.year and terminfo.month=vsatlmtd.month and terminfo.day=vsatlmtd.day and terminfo.device_id=vsatlmtd.device_id"
   ]
  },
  {
   "cell_type": "code",
   "execution_count": null,
   "metadata": {},
   "outputs": [],
   "source": [
    "%%sh\n",
    "git add .\n",
    "git commit -m 'ingest' -a\n",
    "git push origin master"
   ]
  },
  {
   "cell_type": "code",
   "execution_count": null,
   "metadata": {},
   "outputs": [],
   "source": []
  }
 ],
 "metadata": {
  "kernelspec": {
   "display_name": "Sparkmagic (PySpark)",
   "language": "",
   "name": "pysparkkernel"
  },
  "language_info": {
   "codemirror_mode": {
    "name": "python",
    "version": 2
   },
   "mimetype": "text/x-python",
   "name": "pyspark",
   "pygments_lexer": "python2"
  }
 },
 "nbformat": 4,
 "nbformat_minor": 2
}
