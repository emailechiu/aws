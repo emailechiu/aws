{
 "cells": [
  {
   "cell_type": "markdown",
   "metadata": {},
   "source": [
    "## For Local master node"
   ]
  },
  {
   "cell_type": "code",
   "execution_count": null,
   "metadata": {},
   "outputs": [],
   "source": [
    "%%local\n",
    "from pyspark.sql import SparkSession\n",
    "spark=SparkSession.builder.getOrCreate()\n",
    "spark.sparkContext.getConf().getAll()\n",
    "spark.sparkContext.version\n",
    "!which pyspark"
   ]
  },
  {
   "cell_type": "code",
   "execution_count": null,
   "metadata": {},
   "outputs": [],
   "source": [
    "%%local\n",
    "from pyspark.sql import SparkSession\n",
    "from sagemaker_pyspark import classpath_jars # for S3 access\n",
    "#spark=SparkSession.builder.config(\"spark.driver.extraClassPath\", \":\".join(classpath_jars())).config('spark.jars.packages','org.apache.spark:spark-avro_2.11:2.4.0').getOrCreate()\n",
    "spark=SparkSession.builder.config('spark.jars.packages','org.apache.spark:spark-avro_2.11:2.4.0').config(\"spark.driver.extraClassPath\", \":\".join(classpath_jars())).config('spark.jars','file:///home/ec2-user/.ivy2/jars/org.apache.spark_spark-tags_2.11-2.4.0.jar,file:///home/ec2-user/.ivy2/jars/org.apache.spark_spark-avro_2.11-2.4.0.jar,file:///home/ec2-user/.ivy2/jars/org.spark-project.spark_unused-1.0.0.jar').getOrCreate()\n",
    "spark=SparkSession.builder.config('spark.jars.packages','org.apache.spark:spark-avro_2.11:2.4.0').getOrCreate()\n",
    "# spark.conf.set('spark.jars.packages','org.apache.spark:spark-avro_2.11:2.4.0')\n",
    "#dF = spark.read.format(\"avro\").load(\"/home/ec2-user/0.avro\").show()\n",
    "dF = spark.read.format(\"avro\").load(\"s3a://sfdmdb/SF_CASE_VW/ymd=2018*/0.avro\").count()\n",
    "#spark.sparkContext.getConf().getAll()\n",
    "#terminfo = spark.read.parquet(\"s3a://qaessential/jup2_stats.terminal_info/ymd=20181101\").show()"
   ]
  },
  {
   "cell_type": "code",
   "execution_count": null,
   "metadata": {},
   "outputs": [],
   "source": [
    "%%local\n",
    "dF"
   ]
  },
  {
   "cell_type": "markdown",
   "metadata": {},
   "source": [
    "## For Remote clusters"
   ]
  },
  {
   "cell_type": "raw",
   "metadata": {},
   "source": [
    "To run python 3.6 for flint compatibility: https://aws.amazon.com/premiumsupport/knowledge-center/emr-pyspark-python-3x/"
   ]
  },
  {
   "cell_type": "code",
   "execution_count": null,
   "metadata": {},
   "outputs": [],
   "source": [
    "%%info"
   ]
  },
  {
   "cell_type": "code",
   "execution_count": null,
   "metadata": {},
   "outputs": [],
   "source": [
    "%%configure -f\n",
    "{ \"conf\": {\"spark.jars.packages\": \"org.apache.spark:spark-avro_2.11:2.4.0\",\"spark.jars\":\"/opt/flint.jar\"} }"
   ]
  },
  {
   "cell_type": "code",
   "execution_count": 1,
   "metadata": {},
   "outputs": [
    {
     "name": "stdout",
     "output_type": "stream",
     "text": [
      "Starting Spark application\n"
     ]
    },
    {
     "data": {
      "text/html": [
       "<table>\n",
       "<tr><th>ID</th><th>YARN Application ID</th><th>Kind</th><th>State</th><th>Spark UI</th><th>Driver log</th><th>Current session?</th></tr><tr><td>3</td><td>application_1551802503247_0014</td><td>pyspark</td><td>idle</td><td><a target=\"_blank\" href=\"http://ip-10-0-0-185.ec2.internal:20888/proxy/application_1551802503247_0014/\">Link</a></td><td><a target=\"_blank\" href=\"http://ip-10-0-0-185.ec2.internal:8042/node/containerlogs/container_1551802503247_0014_01_000001/livy\">Link</a></td><td>✔</td></tr></table>"
      ],
      "text/plain": [
       "<IPython.core.display.HTML object>"
      ]
     },
     "metadata": {},
     "output_type": "display_data"
    },
    {
     "name": "stdout",
     "output_type": "stream",
     "text": [
      "SparkSession available as 'spark'.\n",
      "+----------+--------------------+--------------------+------+-------------+-------------+-----------------+------------------------+--------------------+----------------+--------------------+--------------------+--------------+--------------+-------------------+---------------------+--------------------+-----------------+-------------+---------------+------------------+--------------------+----------------+--------------------------+--------------------+-------------------+------------------------------+-------------------+----------+-----------------------+------------------+\n",
      "|CASENUMBER|         CREATEDDATE|          CLOSEDDATE|REASON|         TYPE| CASE_TYPE__C|  CASE_SUBTYPE__C|CUSTOMER_REQUEST_TYPE__C|           ACTION__C|ACTIVITY_TYPE__C|     ACTUAL_ISSUE__C|              STATUS|ACCOUNT_SAN__C|CASE_STATUS__C|CASE_RECORD_TYPE__C|PARENT_CUSTOMER_ID__C|  CONTRACT_STATUS__C|CUSTOMER_VALUE__C|CHURN_RISK__C|HSVC_BEAM_ID__C|HSVC_GATEWAY_ID__C|HSVC_SATELLITE_ID__C|ADAPTER_MODEL__C|TRANSPORT_OFFERING_NAME__C|         INSTALLDATE|HSVC_CHRONICSITE__C|HSVC_CHRONICSTATUSLASTMODIFIED|CUSTOMER_PROGRAM__C|     BRAND|CUSTOMER_LOCATION_ID__C|HNS_LOCATION_ID__C|\n",
      "+----------+--------------------+--------------------+------+-------------+-------------+-----------------+------------------------+--------------------+----------------+--------------------+--------------------+--------------+--------------+-------------------+---------------------+--------------------+-----------------+-------------+---------------+------------------+--------------------+----------------+--------------------------+--------------------+-------------------+------------------------------+-------------------+----------+-----------------------+------------------+\n",
      "| 116396868|2018-11-01 00:00:...|2018-11-01 00:00:...|  null|Non-Technical|    Technical|      Performance|    Internet Service ...|   Educated Customer|   Case Creation|No Connectivity -...|              Closed|   DSS36603381|          null|   B2C General Case|           HNSDWAYISP|Current - Under C...|           Medium|          Low|             69|                12|         EchoStar 19|         HT2000W|          Gen5_10GB(RV_04)|2018-08-18 00:00:...|                  0|                          null|               null|HNSDWAYISP|            DSS36603381|           3268334|\n",
      "| 116396869|2018-11-01 00:00:...|2018-11-01 00:02:...|  null|Non-Technical|Non-Technical|      Information|            Billing Info|   Educated Customer|   Case Creation| Update Payment Info|              Closed|   DSS34126773|          null|   B2C General Case|           HNSDWAYISP|Current - Under C...|           Medium|          Low|           null|              null|                null|         HT2000W|              Gen5_10GB_NP|2016-07-29 00:00:...|                  0|                          null|               null|HNSDWAYISP|            DSS34126773|           2009289|\n",
      "| 116396870|2018-11-01 00:00:...|2018-11-01 00:33:...|  null|Non-Technical|Non-Technical|        Retention|          Cancel Service|         Considering|   Case Creation| Service Reliability|              Closed|   DSS34791351|          null|   B2C General Case|           HNSDWAYISP|Current - Under C...|             High|    Very High|             66|                14|         EchoStar 19|         HT2000W|                 Gen5_20GB|2017-05-01 00:00:...|                  0|                          null|               null|HNSDWAYISP|            DSS34791351|           2377216|\n",
      "| 116396871|2018-11-01 00:00:...|                null|  null|Non-Technical|Non-Technical|      Information|     General Information|            Resolved|   Case Creation| System Reactivation|Pending - ReActiv...|   DSS36252088|          null|   B2C General Case|           HNSDWAYISP|Current - Under C...|             High|    Very High|             10|                 9|         EchoStar 17|         HT2000W|          Gen5_10GB(RV_03)|2018-05-29 00:00:...|                  0|                          null|               null|HNSDWAYISP|            DSS36252088|           3098316|\n",
      "| 116396872|2018-11-01 00:00:...|                null|  null|Non-Technical|Non-Technical|      Information|     General Information|            Resolved|   Case Creation| System Reactivation|Pending - ReActiv...|   DSS34587589|          null|   B2C General Case|           HNSDWAYISP|Current - Under C...|             High|    Very High|             51|                11|         EchoStar 17|         HT2000W|              Gen5_20GB_NP|2017-02-26 00:00:...|                  0|                          null|               null|HNSDWAYISP|            DSS34587589|           2264655|\n",
      "| 116396873|2018-11-01 00:00:...|2018-11-06 22:34:...|  null|Non-Technical|Non-Technical|        Retention|          Cancel Service|           Cancelled|   Case Creation| Service Reliability|              Closed|   DSS35407032|          null|   B2C General Case|           HNSDWAYISP|Current - Under C...|              N/A|          N/A|             95|                 7|         EchoStar 19|         HT2000W|           Gen5_10GB(DISH)|2017-10-11 00:00:...|                  0|                          null|               null|HNSDWAYISP|            DSS35407032|           2682593|\n",
      "| 116396874|2018-11-01 00:00:...|2018-11-01 00:33:...|  null|Non-Technical|Non-Technical|        Retention|          Cancel Service|               Saved|   Case Creation|       Billing Issue|              Closed|   DSS34831492|          null|   B2C General Case|           HNSDWAYISP|Current - Under C...|             High|       Medium|             12|                12|         EchoStar 17|         HT2000W|           Gen5_20GB(DISH)|2017-05-07 00:00:...|                  0|                          null|               null|HNSDWAYISP|            DSS34831492|           2396343|\n",
      "| 116396878|2018-11-01 00:01:...|2018-11-01 00:06:...|  null|Non-Technical|Non-Technical|      Information|                 Payment|            Resolved|   Case Creation|    Schedule Payment|              Closed|   DSS33094763|          null|   B2C General Case|           HNSDWAYISP|Current - Under C...|             High|       Medium|             38|                 4|         EchoStar 17|         HT2000W|              Gen5_20GB_NP|2015-06-26 00:00:...|                  0|                          null|               null|HNSDWAYISP|            DSS33094763|        1001734540|\n",
      "| 116396876|2018-11-01 00:01:...|2018-11-01 00:04:...|  null|Non-Technical|Non-Technical|      Information|            Billing Info|            Resolved|   Case Creation|            Due Date|              Closed|   DSS36673249|          null|   B2C General Case|           HNSDWAYISP|Current - Under C...|             High|    Very High|             95|                 7|         EchoStar 19|         HT2000W|              Gen5_20GB_04|2018-09-04 00:00:...|                  1|                          null|               null|HNSDWAYISP|            DSS36673249|           3303143|\n",
      "| 116396877|2018-11-01 00:01:...|2018-11-01 00:10:...|  null|Non-Technical|Non-Technical|      Information|     General Information|   Educated Customer|   Case Creation|    Internet Service|              Closed|   DSS36779176|          null|   B2C General Case|           HNSDWAYISP|Current - Under C...|             High|       Medium|             50|                12|         EchoStar 19|         HT2000W|                 Gen5_20GB|2018-10-03 00:00:...|                  0|                          null|               null|HNSDWAYISP|            DSS36779176|           3354539|\n",
      "| 116396886|2018-11-01 00:01:...|2018-11-03 16:23:...|  null|Non-Technical| Repair Field|Hughes Truck Roll|                  PS TAD|              PS TAD|   Case Creation|              PS TAD|              Closed|   DSS33838914|          null|  Repair Work Order|           HNSDWAYISP|Current - Under C...|              N/A|          N/A|             52|                 9|         EchoStar 17|          HT1100|       Prime Plus(1000)_HM|2016-03-30 00:00:...|                  0|                          null|               null|HNSDWAYISP|            DSS33838914|           1852242|\n",
      "| 116396879|2018-11-01 00:01:...|2018-11-01 00:10:...|  null|Non-Technical|Non-Technical|      Information|     General Information|            Resolved|   Case Creation|    Internet Service|              Closed|   DSS35230067|          null|   B2C General Case|           HNSDWAYISP|Current - Under C...|           Medium|         High|             48|                 5|         EchoStar 19|         HT2000W|                 Gen5_50GB|2017-09-01 00:00:...|                  0|                          null|               null|HNSDWAYISP|            DSS35230067|           2594788|\n",
      "| 116396880|2018-11-01 00:01:...|2018-11-01 00:16:...|  null|Non-Technical|Non-Technical|      Information|     General Information|            Resolved|   Case Creation|    Internet Service|              Closed|   DSS35952361|          null|   B2C General Case|           HNSDWAYISP|Current - Under C...|             High|       Medium|             10|                 9|         EchoStar 17|         HT2000W|                 Gen5_10GB|2018-02-14 00:00:...|                  0|                          null|               null|HNSDWAYISP|            DSS35952361|           2955413|\n",
      "| 116396881|2018-11-01 00:01:...|2018-11-01 00:31:...|  null|Non-Technical|Non-Technical|      Information|     General Information|           Escalated|   Case Creation|   Commitment Status|              Closed|   DSS36290899|          null|   B2C General Case|           HNSDWAYISP|Current - Under C...|             High|          Low|           null|              null|                null|            null|        Gen5_10GB(DISH_03)|                null|                  0|                          null|               null|HNSDWAYISP|            DSS36290899|           3117718|\n",
      "| 116396881|2018-11-01 00:01:...|2018-11-01 00:31:...|  null|Non-Technical|Non-Technical|      Information|     General Information|           Escalated|   Case Creation|   Commitment Status|              Closed|   DSS36290899|          null|   B2C General Case|           HNSDWAYISP|Current - Under C...|             High|          Low|           null|              null|                null|         HT2000W|                 Gen5_20GB|2018-05-15 00:00:...|                  0|                          null|               null|HNSDWAYISP|            DSS36290899|           3117718|\n",
      "| 116396882|2018-11-01 00:01:...|2018-11-01 00:12:...|  null|Non-Technical|Non-Technical|      Information|            Billing Info|   Educated Customer|   Case Creation|Explanation of Ch...|              Closed|   DSS35050543|          null|   B2C General Case|           HNSDWAYISP|Current - Under C...|             High|    Very High|             71|                15|         EchoStar 19|         HT2000W|                 Gen5_20GB|2017-07-11 00:00:...|                  0|                          null|               null|HNSDWAYISP|            DSS35050543|           2505209|\n",
      "| 116396883|2018-11-01 00:01:...|2018-11-01 00:01:...|  null|Non-Technical|Non-Technical|      Information|            Billing Info|   Educated Customer|   Case Creation|Explanation of Ch...|              Closed|    DSS9652951|          null|   B2C General Case|           HNSDWAYISP|Current - Under C...|             High|          Low|           null|              null|                  95|          HN9000|                      null|2011-08-13 00:00:...|                  0|                          null|               null|HNSDWAYISP|             DSS9652951|        1001424254|\n",
      "| 116396884|2018-11-01 00:01:...|2018-11-01 00:07:...|  null|Non-Technical|Non-Technical|      Information|     General Information|            Resolved|   Case Creation|    Internet Service|              Closed|   DSS36736797|          null|   B2C General Case|           HNSDWAYISP|Current - Under C...|           Medium|    Very High|             48|                 5|         EchoStar 19|         HT2000W|                 Gen5_30GB|2018-09-27 00:00:...|                  0|                          null|               null|HNSDWAYISP|            DSS36736797|           3334753|\n",
      "| 116396885|2018-11-01 00:01:...|2018-11-01 00:06:...|  null|Non-Technical|Non-Technical|      Information|                 Payment|Referred to 3rd P...|   Case Creation|        Full Payment|              Closed|   DSS35479220|          null|   B2C General Case|           HNSDWAYISP|Current - Under C...|              Low|          Low|             94|                 3|         EchoStar 19|         HT2000W|           Gen5_10GB(DISH)|2017-10-25 00:00:...|                  0|                          null|               null|HNSDWAYISP|            DSS35479220|           2718296|\n",
      "| 116396888|2018-11-01 00:01:...|2018-11-01 00:04:...|  null|Non-Technical|Non-Technical|      Information|                 Payment|   Educated Customer|   Case Creation|        Full Payment|              Closed|   DSS35751150|          null|   B2C General Case|           HNSDWAYISP|Current - Under C...|              Low|          Low|             51|                 9|         EchoStar 19|         HT2000W|                 Gen5_10GB|2017-12-27 00:00:...|                  0|                          null|               null|HNSDWAYISP|            DSS35751150|           2853648|\n",
      "+----------+--------------------+--------------------+------+-------------+-------------+-----------------+------------------------+--------------------+----------------+--------------------+--------------------+--------------+--------------+-------------------+---------------------+--------------------+-----------------+-------------+---------------+------------------+--------------------+----------------+--------------------------+--------------------+-------------------+------------------------------+-------------------+----------+-----------------------+------------------+\n",
      "only showing top 20 rows"
     ]
    }
   ],
   "source": [
    "#spark.conf.set('spark.jars.packages','org.apache.spark:spark-avro_2.11:2.4.0')\n",
    "spark.read.format(\"avro\").load(\"s3a://sfdmdb/SF_CASE_VW/ymd=20181101/0.avro\").show()"
   ]
  },
  {
   "cell_type": "code",
   "execution_count": 5,
   "metadata": {},
   "outputs": [
    {
     "name": "stderr",
     "output_type": "stream",
     "text": [
      "\"cannot resolve 'from_utc_timestamp(`collection_start_time`, 'UTC')' due to data type mismatch: argument 1 requires timestamp type, however, '`collection_start_time`' is of bigint type.;;\\n'Project [collection_start_time#255L, device_id#253, statecode#257, statecodeduration#258L, from_utc_timestamp(collection_start_time#255L, UTC) AS time#279]\\n+- Project [collection_start_time#255L, device_id#253, statecode#257, statecodeduration#258L]\\n   +- Relation[ingest_batch_id#247L,ingest_time#248L,header_hash#249,schema_version#250,unknown_schema#251,gateway_id#252,device_id#253,esn#254L,collection_start_time#255L,collection_end_time#256L,statecode#257,statecodeduration#258L,statecodelastoccurrencestart#259,statecodelastoccurrenceend#260] avro\\n\"\n",
      "Traceback (most recent call last):\n",
      "  File \"/usr/lib/spark/python/lib/pyspark.zip/pyspark/sql/dataframe.py\", line 1989, in withColumn\n",
      "    return DataFrame(self._jdf.withColumn(colName, col._jc), self.sql_ctx)\n",
      "  File \"/usr/lib/spark/python/lib/py4j-0.10.7-src.zip/py4j/java_gateway.py\", line 1257, in __call__\n",
      "    answer, self.gateway_client, self.target_id, self.name)\n",
      "  File \"/usr/lib/spark/python/lib/pyspark.zip/pyspark/sql/utils.py\", line 69, in deco\n",
      "    raise AnalysisException(s.split(': ', 1)[1], stackTrace)\n",
      "pyspark.sql.utils.AnalysisException: \"cannot resolve 'from_utc_timestamp(`collection_start_time`, 'UTC')' due to data type mismatch: argument 1 requires timestamp type, however, '`collection_start_time`' is of bigint type.;;\\n'Project [collection_start_time#255L, device_id#253, statecode#257, statecodeduration#258L, from_utc_timestamp(collection_start_time#255L, UTC) AS time#279]\\n+- Project [collection_start_time#255L, device_id#253, statecode#257, statecodeduration#258L]\\n   +- Relation[ingest_batch_id#247L,ingest_time#248L,header_hash#249,schema_version#250,unknown_schema#251,gateway_id#252,device_id#253,esn#254L,collection_start_time#255L,collection_end_time#256L,statecode#257,statecodeduration#258L,statecodelastoccurrencestart#259,statecodelastoccurrenceend#260] avro\\n\"\n",
      "\n"
     ]
    }
   ],
   "source": [
    "from pyspark.sql.functions import to_timestamp,from_unixtime\n",
    "from ts.flint import FlintContext\n",
    "flintContext = FlintContext(sqlContext)\n",
    "df = spark.read.format('avro').load(\"s3a://vsat-lmtd/jup2_stats/vsat_stcd/year=2019/month=2/day=1/*\").select(to_timestamp(from_unixtime(\"collection_start_time\", \"yyyy-MM-dd HH\")).alias('time'),'device_id','statecode','statecodeduration')\n",
    "df.printSchema\n",
    "vsatlmtd= flintContext.read.dataframe(df)\n",
    "vsatlmtd.show()"
   ]
  },
  {
   "cell_type": "code",
   "execution_count": null,
   "metadata": {},
   "outputs": [],
   "source": [
    "#spark.hadoop.parquet.enable.summary-metadata false\n",
    "#spark.sql.parquet.mergeSchema false\n",
    "#spark.sql.parquet.filterPushdown true\n",
    "#spark.sql.hive.metastorePartitionPruning true\n",
    "terminfo = spark.read.parquet(\"s3a://qaessential/jup2_stats.terminal_info/ymd=20181101\").select('year','month','day','device_id','hw_type','absolute_beam_id')\n",
    "vsatlmtd = spark.read.parquet(\"s3a://qaessential/jup2_stats.vsat_stcd/ymd=20181101\").select('year','month','day','device_id','statecode','statecodeduration')\n",
    "terminfo.createOrReplaceTempView(\"terminfo\")\n",
    "vsatlmtd.createOrReplaceTempView(\"vsatlmtd\")\n",
    "vsatlmtd_e=vsatlmtd.join(terminfo,['year','month','day','device_id'])\n",
    "vsatlmtd_e.explain()\n",
    "vsatlmtd_e.show()"
   ]
  },
  {
   "cell_type": "code",
   "execution_count": null,
   "metadata": {},
   "outputs": [],
   "source": [
    "%%info"
   ]
  },
  {
   "cell_type": "code",
   "execution_count": null,
   "metadata": {},
   "outputs": [],
   "source": [
    "%%sql -o result\n",
    "select * from terminfo join vsatlmtd on terminfo.year=vsatlmtd.year and terminfo.month=vsatlmtd.month and terminfo.day=vsatlmtd.day and terminfo.device_id=vsatlmtd.device_id"
   ]
  },
  {
   "cell_type": "code",
   "execution_count": null,
   "metadata": {},
   "outputs": [],
   "source": [
    "%%sh\n",
    "git add .\n",
    "git commit -m 'ingest' -a\n",
    "git push origin master"
   ]
  },
  {
   "cell_type": "code",
   "execution_count": null,
   "metadata": {},
   "outputs": [],
   "source": []
  }
 ],
 "metadata": {
  "kernelspec": {
   "display_name": "Sparkmagic (PySpark)",
   "language": "",
   "name": "pysparkkernel"
  },
  "language_info": {
   "codemirror_mode": {
    "name": "python",
    "version": 2
   },
   "mimetype": "text/x-python",
   "name": "pyspark",
   "pygments_lexer": "python2"
  }
 },
 "nbformat": 4,
 "nbformat_minor": 2
}
