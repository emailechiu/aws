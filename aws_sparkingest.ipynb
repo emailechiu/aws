{
 "cells": [
  {
   "cell_type": "markdown",
   "metadata": {},
   "source": [
    "## For Local master node"
   ]
  },
  {
   "cell_type": "code",
   "execution_count": null,
   "metadata": {},
   "outputs": [],
   "source": [
    "%%local\n",
    "from pyspark.sql import SparkSession\n",
    "spark=SparkSession.builder.getOrCreate()\n",
    "spark.sparkContext.getConf().getAll()\n",
    "spark.sparkContext.version\n",
    "!which pyspark"
   ]
  },
  {
   "cell_type": "code",
   "execution_count": null,
   "metadata": {},
   "outputs": [],
   "source": [
    "%%local\n",
    "from pyspark.sql import SparkSession\n",
    "from sagemaker_pyspark import classpath_jars # for S3 access\n",
    "#spark=SparkSession.builder.config(\"spark.driver.extraClassPath\", \":\".join(classpath_jars())).config('spark.jars.packages','org.apache.spark:spark-avro_2.11:2.4.0').getOrCreate()\n",
    "spark=SparkSession.builder.config('spark.jars.packages','org.apache.spark:spark-avro_2.11:2.4.0').config(\"spark.driver.extraClassPath\", \":\".join(classpath_jars())).config('spark.jars','file:///home/ec2-user/.ivy2/jars/org.apache.spark_spark-tags_2.11-2.4.0.jar,file:///home/ec2-user/.ivy2/jars/org.apache.spark_spark-avro_2.11-2.4.0.jar,file:///home/ec2-user/.ivy2/jars/org.spark-project.spark_unused-1.0.0.jar').getOrCreate()\n",
    "spark=SparkSession.builder.config('spark.jars.packages','org.apache.spark:spark-avro_2.11:2.4.0').getOrCreate()\n",
    "# spark.conf.set('spark.jars.packages','org.apache.spark:spark-avro_2.11:2.4.0')\n",
    "#dF = spark.read.format(\"avro\").load(\"/home/ec2-user/0.avro\").show()\n",
    "dF = spark.read.format(\"avro\").load(\"s3a://sfdmdb/SF_CASE_VW/ymd=2018*/0.avro\").count()\n",
    "#spark.sparkContext.getConf().getAll()\n",
    "#terminfo = spark.read.parquet(\"s3a://qaessential/jup2_stats.terminal_info/ymd=20181101\").show()"
   ]
  },
  {
   "cell_type": "code",
   "execution_count": null,
   "metadata": {},
   "outputs": [],
   "source": [
    "%%local\n",
    "dF"
   ]
  },
  {
   "cell_type": "markdown",
   "metadata": {},
   "source": [
    "## For Remote clusters"
   ]
  },
  {
   "cell_type": "raw",
   "metadata": {},
   "source": [
    "To run python 3.6 for flint compatibility: https://aws.amazon.com/premiumsupport/knowledge-center/emr-pyspark-python-3x/"
   ]
  },
  {
   "cell_type": "code",
   "execution_count": null,
   "metadata": {},
   "outputs": [],
   "source": [
    "%%info"
   ]
  },
  {
   "cell_type": "code",
   "execution_count": null,
   "metadata": {},
   "outputs": [],
   "source": [
    "%%configure -f\n",
    "{ \"conf\": {\"spark.jars.packages\": \"org.apache.spark:spark-avro_2.11:2.4.0\",\"spark.jars\":\"/opt/flint.jar\"} }"
   ]
  },
  {
   "cell_type": "code",
   "execution_count": null,
   "metadata": {},
   "outputs": [],
   "source": [
    "%%configure -f\n",
    "{ \"conf\": {\"spark.jars\":$spark.jars:\"/opt/flint.jar\"} }"
   ]
  },
  {
   "cell_type": "code",
   "execution_count": null,
   "metadata": {},
   "outputs": [],
   "source": [
    "#spark.conf.set('spark.jars.packages','org.apache.spark:spark-avro_2.11:2.4.0')\n",
    "spark.read.format(\"avro\").load(\"s3a://sfdmdb/SF_CASE_VW/ymd=20181101/0.avro\").show()"
   ]
  },
  {
   "cell_type": "code",
   "execution_count": 1,
   "metadata": {},
   "outputs": [
    {
     "name": "stderr",
     "output_type": "stream",
     "text": [
      "UsageError: Line magic function `%pyspark` not found.\n"
     ]
    }
   ],
   "source": [
    "%pyspark\n",
    "from pyspark.sql.functions import to_timestamp,from_unixtime\n",
    "from ts.flint import FlintContext\n",
    "flintContext = FlintContext(sqlContext)\n",
    "feature = spark.read.format('avro').load(\"s3a://vsat-lmtd/jup*_stats/vsat_stcd/year=2019/month=2/day=1/*\").select(to_timestamp(from_unixtime(\"collection_start_time\", \"yyyy-MM-dd HH\")).alias('time'),'device_id','statecode','statecodeduration')\n",
    "target = spark.read.format(\"avro\").load(\"s3a://sfdmdb/SF_CASE_VW/ymd=20190201/0.avro\").show()\n",
    "#df.printSchema\n",
    "vsatlmtd= flintContext.read.dataframe(df)\n",
    "vsatlmtd.show()"
   ]
  },
  {
   "cell_type": "code",
   "execution_count": null,
   "metadata": {},
   "outputs": [],
   "source": [
    "#spark.hadoop.parquet.enable.summary-metadata false\n",
    "#spark.sql.parquet.mergeSchema false\n",
    "#spark.sql.parquet.filterPushdown true\n",
    "#spark.sql.hive.metastorePartitionPruning true\n",
    "terminfo = spark.read.parquet(\"s3a://qaessential/jup2_stats.terminal_info/ymd=20181101\").select('year','month','day','device_id','hw_type','absolute_beam_id')\n",
    "vsatlmtd = spark.read.parquet(\"s3a://qaessential/jup2_stats.vsat_stcd/ymd=20181101\").select('year','month','day','device_id','statecode','statecodeduration')\n",
    "terminfo.createOrReplaceTempView(\"terminfo\")\n",
    "vsatlmtd.createOrReplaceTempView(\"vsatlmtd\")\n",
    "vsatlmtd_e=vsatlmtd.join(terminfo,['year','month','day','device_id'])\n",
    "vsatlmtd_e.explain()\n",
    "vsatlmtd_e.show()"
   ]
  },
  {
   "cell_type": "code",
   "execution_count": null,
   "metadata": {},
   "outputs": [],
   "source": [
    "%%info"
   ]
  },
  {
   "cell_type": "code",
   "execution_count": null,
   "metadata": {},
   "outputs": [],
   "source": [
    "%%sql -o result\n",
    "select * from terminfo join vsatlmtd on terminfo.year=vsatlmtd.year and terminfo.month=vsatlmtd.month and terminfo.day=vsatlmtd.day and terminfo.device_id=vsatlmtd.device_id"
   ]
  },
  {
   "cell_type": "code",
   "execution_count": 1,
   "metadata": {},
   "outputs": [
    {
     "name": "stdout",
     "output_type": "stream",
     "text": [
      "[master 595a33c] aws spark notebooks and iam policies\n",
      " Committer: EC2 Default User <ec2-user@ip-172-16-90-2.ec2.internal>\n",
      "Your name and email address were configured automatically based\n",
      "on your username and hostname. Please check that they are accurate.\n",
      "You can suppress this message by setting them explicitly:\n",
      "\n",
      "    git config --global user.name \"Your Name\"\n",
      "    git config --global user.email you@example.com\n",
      "\n",
      "After doing this, you may fix the identity used for this commit with:\n",
      "\n",
      "    git commit --amend --reset-author\n",
      "\n",
      " 48 files changed, 1203 insertions(+), 22139 deletions(-)\n",
      " rename R_ingest.r => .ipynb_checkpoints/R_ingest-checkpoint.r (100%)\n",
      " create mode 100644 .ipynb_checkpoints/Untitled3-checkpoint.ipynb\n",
      " create mode 100644 .ipynb_checkpoints/Untitled4-checkpoint.ipynb\n",
      " create mode 100644 .ipynb_checkpoints/Untitled5-checkpoint.ipynb\n",
      " create mode 100644 .ipynb_checkpoints/Untitled6-checkpoint.ipynb\n",
      " rename etl.ipynb => .ipynb_checkpoints/aws_deepar-checkpoint.ipynb (100%)\n",
      " rename pyspark2_ingest.ipynb => .ipynb_checkpoints/aws_sparkingest-checkpoint.ipynb (100%)\n",
      " create mode 100755 .ipynb_checkpoints/bulkcsv-checkpoint.sh\n",
      " create mode 100755 .ipynb_checkpoints/bulkcsv_s3-checkpoint.scala\n",
      " create mode 100755 .ipynb_checkpoints/bulkcsv_s3-checkpoint.sh\n",
      " rename example_config.json => .ipynb_checkpoints/example_config-checkpoint.json (100%)\n",
      " rename example_config.json.1 => .ipynb_checkpoints/example_config.json-checkpoint.1 (100%)\n",
      " create mode 100644 .ipynb_checkpoints/iam_boundary-checkpoint.json\n",
      " create mode 100644 .ipynb_checkpoints/main-checkpoint.ipynb\n",
      " create mode 100644 .ipynb_checkpoints/main1-checkpoint.ipynb\n",
      " create mode 100644 .ipynb_checkpoints/main2-checkpoint.ipynb\n",
      " create mode 100755 .ipynb_checkpoints/parallel_unzip-checkpoint.sh\n",
      " create mode 100644 .ipynb_checkpoints/plotly1-checkpoint.ipynb\n",
      " create mode 100644 .ipynb_checkpoints/plotly2-checkpoint.ipynb\n",
      " rename pom.properties => .ipynb_checkpoints/pom-checkpoint.properties (100%)\n",
      " create mode 100644 .ipynb_checkpoints/test-checkpoint.ipynb\n",
      " rename tests3.scala => .ipynb_checkpoints/tests3-checkpoint.scala (100%)\n",
      " create mode 100644 .ipynb_checkpoints/untitled-checkpoint.txt\n",
      " delete mode 100644 Building+a+Recurrent+Neural+Network+-+Step+by+Step+-+v3.ipynb\n",
      " delete mode 100644 Dinosaurus+Island+--+Character+level+language+model+final+-+v3.ipynb\n",
      " delete mode 100644 Emojify+-+v2.ipynb\n",
      " delete mode 100644 Improvise+a+Jazz+Solo+with+an+LSTM+Network+-+v3.ipynb\n",
      " delete mode 100644 Neural+machine+translation+with+attention+-+v4.ipynb\n",
      " delete mode 100644 Operations+on+word+vectors+-+v2.ipynb\n",
      " delete mode 100644 R_ingest.ipynb\n",
      " delete mode 100644 Trigger+word+detection+-+v1.html\n",
      " delete mode 100644 Trigger+word+detection+-+v1.ipynb\n",
      " delete mode 100644 Untitled.ipynb\n",
      " delete mode 100644 Untitled.txt\n",
      " delete mode 100644 Untitled1.ipynb\n",
      " delete mode 100644 Untitled2.ipynb\n",
      " create mode 100644 aws_iam_boundary.json\n",
      " rename train.ipynb => aws_python3deepar.ipynb (100%)\n",
      " rename python3_ingest.ipynb => aws_python3ingest.ipynb (68%)\n",
      " create mode 100644 aws_sparkdeepar.ipynb\n",
      " create mode 100644 aws_sparkingest.ipynb\n",
      " delete mode 100644 example_config.json.2\n",
      " delete mode 100644 flint.ipynb\n",
      " delete mode 100755 happyunhappy_atlarge.csv\n",
      " delete mode 100644 pyspark2_ingest.txt\n",
      " delete mode 100644 python3_ingest.py\n",
      " delete mode 100644 sparkR_ingest.ipynb\n",
      " delete mode 100644 sparkR_ingest.txt\n"
     ]
    },
    {
     "name": "stderr",
     "output_type": "stream",
     "text": [
      "To https://github.com/emailechiu/aws.git\n",
      "   8f35fe8..595a33c  master -> master\n"
     ]
    }
   ],
   "source": [
    "%%sh\n",
    "git add .\n",
    "git commit -m 'aws spark notebooks and iam policies' -a\n",
    "git push origin master"
   ]
  },
  {
   "cell_type": "code",
   "execution_count": null,
   "metadata": {},
   "outputs": [],
   "source": []
  }
 ],
 "metadata": {
  "kernelspec": {
   "display_name": "Sparkmagic (PySpark)",
   "language": "",
   "name": "pysparkkernel"
  },
  "language_info": {
   "codemirror_mode": {
    "name": "python",
    "version": 2
   },
   "mimetype": "text/x-python",
   "name": "pyspark",
   "pygments_lexer": "python2"
  }
 },
 "nbformat": 4,
 "nbformat_minor": 4
}
